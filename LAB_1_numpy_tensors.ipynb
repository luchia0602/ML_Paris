{
  "cells": [
    {
      "cell_type": "markdown",
      "metadata": {
        "id": "view-in-github",
        "colab_type": "text"
      },
      "source": [
        "<a href=\"https://colab.research.google.com/github/luchia0602/ML_Paris/blob/main/LAB_1_numpy_tensors.ipynb\" target=\"_parent\"><img src=\"https://colab.research.google.com/assets/colab-badge.svg\" alt=\"Open In Colab\"/></a>"
      ]
    },
    {
      "cell_type": "markdown",
      "metadata": {
        "id": "ZBoIeKEljgZg"
      },
      "source": [
        "Marie Candito - Master Linguistique Informatique - Université Paris Cité\n",
        "\n",
        "**COPY THIS COLAB NOTEBOOK** if you want to modify it.\n",
        "\n",
        "To turn in the TODOs, **add your name** to the name of the copy."
      ]
    },
    {
      "cell_type": "markdown",
      "source": [
        "# Exercises on vectors and matrices\n",
        "\n",
        "Answer the following questions using paper and pencil:\n",
        "\n",
        "\n",
        "1.   Compute the dot product of $v1 = (1, -2, 2)$ and $v2=(-3, 6,2)$\n",
        "\n",
        "2.   Compute the norm of $v1$ and $v2$\n",
        "\n",
        "3.   Compute cos(v1,v2) in two ways\n",
        " - dot product divided by norm of v1 and norm of v2\n",
        " - first normalize v1 and v2 : divide each by their norm, and then compute the dot product between v1' and v2'\n",
        "\n",
        "4.   Transpose the matrix $A = \\begin{pmatrix}\n",
        " 1 & -2 & 2\\\\\n",
        " -3 & 4 & 0\\\\\n",
        " 4 & 2 & 4\\\\\n",
        " -2 & -2 & 1\n",
        " \\end{pmatrix}$\n",
        "\n",
        "5.   Let $B = \\begin{pmatrix}\n",
        " -3 & 6 & 2\\\\\n",
        "  0 & 3 & -4\\\\\n",
        " \\end{pmatrix}$.\n",
        "     - Can we compute the matrix product AB ?\n",
        "     - (Remember matrix product $M_1M_2$ computes the dot product of every row in $M_1$ with every column in $M_2$)\n",
        "\n",
        "6.   Find out which of these two matrix products is feasible, and compute it\n",
        "   - $A(B^T)$\n",
        "   - or $(A^T)B$\n",
        "   - (drawing the matrices can help you)\n",
        "\n",
        "7.   Describe in plain words (French or English) which dot products were computed in the previous question.\n",
        "\n"
      ],
      "metadata": {
        "id": "RUEaI4Nh9p4S"
      }
    },
    {
      "cell_type": "markdown",
      "metadata": {
        "id": "4XfEdAyZjgZd"
      },
      "source": [
        "# Tensors in python: the ndarray type in numpy"
      ]
    },
    {
      "cell_type": "markdown",
      "metadata": {
        "id": "OZmUsYBcjgZi"
      },
      "source": [
        "The numpy.ndarray type can be used to represent multidimensional arrays\n",
        "(\"n-dimensional\" hence the name ndarray), corresponding to the mathematical concept of  **tensor**.\n",
        "\n",
        "A one-dimensional array corresponds to a **vector** (= tensor with 1 axis (or dimension)).\n",
        "\n",
        "A 2-dimensional array corresponds to a **matrix** (= tensor with 2 axis).\n",
        "\n",
        "More generally, a n-dimensional array corresponds to a **tensor** with n **axis**.\n",
        "\n",
        "An ndarray can be built with numpy methods such as zeros, ones, random.rand, arange ...\n"
      ]
    },
    {
      "cell_type": "markdown",
      "metadata": {
        "id": "QJLfB_FVjgZk"
      },
      "source": [
        "# 1.&nbsp;Initialize tensors"
      ]
    },
    {
      "cell_type": "markdown",
      "source": [
        "#### Initialization with zeros"
      ],
      "metadata": {
        "id": "r9-GYO6DdQFE"
      }
    },
    {
      "cell_type": "code",
      "execution_count": null,
      "metadata": {
        "colab": {
          "base_uri": "https://localhost:8080/"
        },
        "id": "eI8NGffIjgZl",
        "outputId": "7c142335-a73c-41aa-df2b-5a143b771131"
      },
      "outputs": [
        {
          "output_type": "stream",
          "name": "stdout",
          "text": [
            "[[0. 0. 0. 0.]\n",
            " [0. 0. 0. 0.]\n",
            " [0. 0. 0. 0.]]\n",
            "<class 'numpy.ndarray'>\n",
            "(3, 4)\n"
          ]
        }
      ],
      "source": [
        "import numpy as np\n",
        "\n",
        "m1 = np.zeros( (3,4) ) # a matrix with 3 rows and 4 columns\n",
        "                       # bidimensional ndarray\n",
        "print(m1)\n",
        "\n",
        "print(type(m1))\n",
        "\n",
        "print(m1.shape)  # the \"shape\" is a tuple providing the size of each axis"
      ]
    },
    {
      "cell_type": "code",
      "execution_count": null,
      "metadata": {
        "colab": {
          "base_uri": "https://localhost:8080/"
        },
        "id": "AOVTc3b7jgZn",
        "outputId": "7af5f381-6cf5-4f16-bc27-8ee101d7c390"
      },
      "outputs": [
        {
          "output_type": "stream",
          "name": "stdout",
          "text": [
            "[[1 2]\n",
            " [3 4]]\n",
            "2\n",
            "<class 'numpy.ndarray'>\n"
          ]
        }
      ],
      "source": [
        "m = np.array( [ [1,2], [3,4]])\n",
        "print(m)\n",
        "\n",
        "print(m[0,1])\n",
        "print(type(m))"
      ]
    },
    {
      "cell_type": "markdown",
      "metadata": {
        "id": "tH7rQuXdjgZw"
      },
      "source": [
        "#### `np.array` : Initialization via lists of lists of lists ..."
      ]
    },
    {
      "cell_type": "code",
      "execution_count": null,
      "metadata": {
        "colab": {
          "base_uri": "https://localhost:8080/"
        },
        "id": "Kic7ghgRjgZx",
        "outputId": "22caf3c4-c524-499e-9579-82b169ed4376"
      },
      "outputs": [
        {
          "output_type": "stream",
          "name": "stdout",
          "text": [
            "[[1 2]\n",
            " [3 4]\n",
            " [5 6]]\n",
            "(3, 2)\n"
          ]
        }
      ],
      "source": [
        "m3 = np.array([[1,2],[3,4],[5,6]])\n",
        "\n",
        "print(m3)\n",
        "\n",
        "print(m3.shape)"
      ]
    },
    {
      "cell_type": "code",
      "execution_count": null,
      "metadata": {
        "colab": {
          "base_uri": "https://localhost:8080/"
        },
        "id": "3C4snf6UjgZy",
        "outputId": "54de0491-2de3-4430-a431-8f0aa3f5f606"
      },
      "outputs": [
        {
          "output_type": "stream",
          "name": "stdout",
          "text": [
            "[[[1 2]\n",
            "  [3 4]]\n",
            "\n",
            " [[5 6]\n",
            "  [7 8]]]\n",
            "(2, 2, 2)\n",
            "6\n"
          ]
        }
      ],
      "source": [
        "a=np.array([[[1,2],[3,4]],[[5,6],[7,8]]])  # tensor with 3 axis, 2x2x2\n",
        "                                           # (cube, each face is a 2x2 matrix)\n",
        "print(a)\n",
        "print(a.shape)\n",
        "\n",
        "# get one element : ranks along each axis starts at 0\n",
        "print(a[1,0,1])"
      ]
    },
    {
      "cell_type": "markdown",
      "source": [
        "### Random initialization"
      ],
      "metadata": {
        "id": "RMNKGujMcoHw"
      }
    },
    {
      "cell_type": "code",
      "execution_count": null,
      "metadata": {
        "colab": {
          "base_uri": "https://localhost:8080/"
        },
        "id": "RXYtrPo1jgZv",
        "outputId": "d1b3f75e-78de-44cb-d108-ad5ddce3aac1"
      },
      "outputs": [
        {
          "output_type": "stream",
          "name": "stdout",
          "text": [
            "[[0.73665535 0.00931367]\n",
            " [0.15138606 0.16436755]]\n"
          ]
        }
      ],
      "source": [
        "m2 = np.random.rand(2,2)  # a 2x2 matrix, containing random floats between 0 and 1\n",
        "print(m2)"
      ]
    },
    {
      "cell_type": "markdown",
      "source": [
        "### linspace initialization"
      ],
      "metadata": {
        "id": "MI9MV5Wi3Z-O"
      }
    },
    {
      "cell_type": "code",
      "execution_count": null,
      "metadata": {
        "colab": {
          "base_uri": "https://localhost:8080/"
        },
        "id": "Bc6FUoKdjgZ0",
        "outputId": "f4a81390-05e7-4d2d-bb88-85ef15897b23"
      },
      "outputs": [
        {
          "output_type": "stream",
          "name": "stdout",
          "text": [
            "[ 2.5  4.   5.5  7.   8.5 10. ]\n",
            "(6,)\n"
          ]
        }
      ],
      "source": [
        "# linspace initialization\n",
        "a = np.linspace(2.5, 10, 6)  # lower bound, upper bound, nb of elements\n",
        "                           # = 6 elements, uniformely distributed\n",
        "                           #   in the range [2.5, 10]\n",
        "print(a)\n",
        "type(a)\n",
        "print(a.shape)"
      ]
    },
    {
      "cell_type": "markdown",
      "source": [
        "# 2.&nbsp;Reshaping"
      ],
      "metadata": {
        "id": "o_6hfFS-3vQY"
      }
    },
    {
      "cell_type": "code",
      "execution_count": null,
      "metadata": {
        "colab": {
          "base_uri": "https://localhost:8080/"
        },
        "id": "8CkM8szjjgZy",
        "outputId": "8b0385e6-fdde-492e-ea8a-96ac2301b81f"
      },
      "outputs": [
        {
          "output_type": "stream",
          "name": "stdout",
          "text": [
            "[ 0  1  2  3  4  5  6  7  8  9 10 11 12 13 14 15]\n",
            "(16,)\n",
            "[[ 0  1  2  3]\n",
            " [ 4  5  6  7]\n",
            " [ 8  9 10 11]\n",
            " [12 13 14 15]]\n",
            "(4, 4)\n",
            "[[[ 0  1  2  3]\n",
            "  [ 4  5  6  7]]\n",
            "\n",
            " [[ 8  9 10 11]\n",
            "  [12 13 14 15]]]\n",
            "[ 0  1  2  3  0  5  6  7  8  9 10 11 12 13 14 15]\n"
          ]
        }
      ],
      "source": [
        "# range + reshape\n",
        "a = np.array (range(16))\n",
        "print(a)\n",
        "print(a.shape)\n",
        "\n",
        "b = a.reshape(4,4)\n",
        "print(b)\n",
        "print(b.shape)\n",
        "\n",
        "print(a.reshape(2,2,4))\n",
        "\n",
        "# NB: reshape does not copy!!\n",
        "b[1,0] = 0\n",
        "print(a)\n",
        "\n"
      ]
    },
    {
      "cell_type": "markdown",
      "source": [
        "### Reshaping using -1"
      ],
      "metadata": {
        "id": "4irhE0mWD6Nb"
      }
    },
    {
      "cell_type": "code",
      "source": [
        "# very frequent use (in pytorch too)\n",
        "print(a.shape) # (16,)\n",
        "# one of the dimensions passed to reshape can be -1, and numpy will infer the value\n",
        "c = a.reshape(2, -1, 4) # 2 * ? * 4 = 16\n",
        "print(c)"
      ],
      "metadata": {
        "id": "0ikZEvsi3gef",
        "colab": {
          "base_uri": "https://localhost:8080/"
        },
        "outputId": "b4af4b6a-6488-4f73-bef2-30ec76971e36"
      },
      "execution_count": null,
      "outputs": [
        {
          "output_type": "stream",
          "name": "stdout",
          "text": [
            "(16,)\n",
            "[[[ 0  1  2  3]\n",
            "  [ 0  5  6  7]]\n",
            "\n",
            " [[ 8  9 10 11]\n",
            "  [12 13 14 15]]]\n"
          ]
        }
      ]
    },
    {
      "cell_type": "markdown",
      "metadata": {
        "id": "p1NhFOqkjgZ4"
      },
      "source": [
        "# 3.&nbsp;Get or set subparts of a tensor"
      ]
    },
    {
      "cell_type": "code",
      "execution_count": null,
      "metadata": {
        "colab": {
          "base_uri": "https://localhost:8080/"
        },
        "id": "_KG0g3wBjgZ4",
        "outputId": "beba3c9d-1147-445f-aa34-30e01039c434"
      },
      "outputs": [
        {
          "output_type": "stream",
          "name": "stdout",
          "text": [
            "[[ 0  1  2]\n",
            " [ 3  4  5]\n",
            " [ 6  7  8]\n",
            " [ 9 10 11]]\n",
            "3\n",
            "[6 7 8]\n",
            "(3,)\n",
            "[[ 1  2]\n",
            " [ 4  5]\n",
            " [ 7  8]\n",
            " [10 11]]\n",
            "(4, 2)\n"
          ]
        }
      ],
      "source": [
        "a = np.array (range(12))\n",
        "a = a.reshape(4,3)\n",
        "print(a)\n",
        "\n",
        "# get one value\n",
        "print(a[1,0])   # first index (axis=0) = id of the row (starting at 0)\n",
        "                # 2nd index   (axis=1) = id of the column (starting at 0)\n",
        "\n",
        "# slices do work as in lists\n",
        "# => use \":\" to select a whole row / column etc...\n",
        "\n",
        "# selecting the 3rd row\n",
        "print(a[2, :])\n",
        "\n",
        "# CAUTION: choosing a single value on one of the axis removes this axis altogether\n",
        "# => the shape has 1 axis less\n",
        "# => here we get a vector of shape (3,) and not a matrix of shape (1,3)\n",
        "print(a[2, :].shape)\n",
        "\n",
        "# selecting 2nd and 3rd columns (hence with ids 1 and 2)\n",
        "print(a[:, 1:3])\n",
        "# here the shape still has the same nb of axis\n",
        "print(a[:, 1:3].shape)"
      ]
    },
    {
      "cell_type": "code",
      "execution_count": null,
      "metadata": {
        "colab": {
          "base_uri": "https://localhost:8080/"
        },
        "id": "YUjPSVnvjgZ4",
        "outputId": "b5dc287d-180d-477e-c9fd-805ad77455d7"
      },
      "outputs": [
        {
          "output_type": "stream",
          "name": "stdout",
          "text": [
            "[[ 0  1  2]\n",
            " [ 0  4  5]\n",
            " [ 0  7  8]\n",
            " [ 0 10 11]]\n",
            "[[ 0  1  2]\n",
            " [ 1  1  1]\n",
            " [ 0  7  8]\n",
            " [ 0 10 11]]\n",
            "[[ 0  1  2]\n",
            " [ 1  1  1]\n",
            " [-1 -7 -1]\n",
            " [ 0 10 11]]\n"
          ]
        }
      ],
      "source": [
        "a = np.array (range(12)).reshape(4,3)\n",
        "\n",
        "# modification of 1st column\n",
        "a[:, 0] = np.zeros( shape=(4,))\n",
        "print(a)\n",
        "\n",
        "# modification of 2nd row\n",
        "a[1, :] = np.ones( shape=(3,))\n",
        "print(a)\n",
        "\n",
        "# directly assigning the 3rd row\n",
        "a[2, :] = [-1, -7, -1]\n",
        "print(a)\n"
      ]
    },
    {
      "cell_type": "code",
      "execution_count": null,
      "metadata": {
        "colab": {
          "base_uri": "https://localhost:8080/"
        },
        "id": "hmS44iAZjgZ5",
        "outputId": "c2d2606d-fe79-46f9-e259-e8c2781437c1"
      },
      "outputs": [
        {
          "output_type": "stream",
          "name": "stdout",
          "text": [
            "[[[ 0  1]\n",
            "  [ 2  3]\n",
            "  [ 4  5]\n",
            "  [ 6  7]]\n",
            "\n",
            " [[ 8  9]\n",
            "  [10 11]\n",
            "  [12 13]\n",
            "  [14 15]]\n",
            "\n",
            " [[16 17]\n",
            "  [18 19]\n",
            "  [20 21]\n",
            "  [22 23]]]\n",
            "[[0 1]\n",
            " [2 3]\n",
            " [4 5]\n",
            " [6 7]]\n"
          ]
        }
      ],
      "source": [
        "# the same holds for tensors with more than 2 axis\n",
        "t3 = np.array(range(24)).reshape(3,4,2)  ## 3 matrices de size 4 x 2\n",
        "print(t3)\n",
        "\n",
        "print( t3[0,:,:] )"
      ]
    },
    {
      "cell_type": "code",
      "execution_count": null,
      "metadata": {
        "colab": {
          "base_uri": "https://localhost:8080/"
        },
        "id": "VSRe6swkjgZ6",
        "outputId": "e187b865-6e75-4874-e010-ae67c039e26e"
      },
      "outputs": [
        {
          "output_type": "stream",
          "name": "stdout",
          "text": [
            "[[[ 0  1  2  3]\n",
            "  [ 4  5  6  7]\n",
            "  [ 8  9 10 11]]\n",
            "\n",
            " [[12 13 14 15]\n",
            "  [16 17 18 19]\n",
            "  [20 21 22 23]]]\n",
            "(3, 4)\n",
            "[[ 0  1  2  3]\n",
            " [ 4  5  6  7]\n",
            " [ 8  9 10 11]]\n",
            "(3,)\n",
            "[14 18 22]\n"
          ]
        }
      ],
      "source": [
        "a = np.array (range(24))\n",
        "a = a.reshape(2,3,4)  # a tensor with 3 axis\n",
        "print(a)\n",
        "\n",
        "b = a[0,:,:]\n",
        "print(b.shape)  # 2 axis left\n",
        "print(b)\n",
        "\n",
        "c = a[1,:,2]\n",
        "print(c.shape)  # 1 axis left\n",
        "print(c)"
      ]
    },
    {
      "cell_type": "markdown",
      "metadata": {
        "id": "-LadCCdXjgZ3"
      },
      "source": [
        "### CAUTION: assigning does not copy"
      ]
    },
    {
      "cell_type": "code",
      "execution_count": null,
      "metadata": {
        "colab": {
          "base_uri": "https://localhost:8080/"
        },
        "id": "Otu5w-isjgZ3",
        "outputId": "fa86f44d-9673-4bd9-979b-0272bb9e6a39"
      },
      "outputs": [
        {
          "output_type": "stream",
          "name": "stdout",
          "text": [
            "a [[ 1.  1.  1.  1.]\n",
            " [ 1.  1. 17.  1.]\n",
            " [ 1.  1.  1.  1.]]\n",
            "b [[ 1.  1.  1.  1.]\n",
            " [ 1.  1. 17.  1.]\n",
            " [ 1.  1.  1.  1.]]\n",
            "a [[ 1.  1.  1.  1.]\n",
            " [ 1.  1. 17.  2.]\n",
            " [ 1.  1.  1.  1.]]\n",
            "c [[ 1.  1.  1.  1.]\n",
            " [ 1.  1. 17.  1.]\n",
            " [ 1.  1.  1.  1.]]\n"
          ]
        }
      ],
      "source": [
        "# CAUTION: assigning does not copy\n",
        "a = np.ones(shape=(3,4))\n",
        "b = a\n",
        "a[1,2] =17\n",
        "print(\"a\", a)\n",
        "print(\"b\", b)\n",
        "\n",
        "c=np.copy(a)\n",
        "a[1,3]=2\n",
        "print(\"a\", a)\n",
        "print(\"c\", c)"
      ]
    },
    {
      "cell_type": "markdown",
      "metadata": {
        "id": "oi82ikk-jgZ1"
      },
      "source": [
        "# 4.&nbsp;Transposition"
      ]
    },
    {
      "cell_type": "code",
      "execution_count": null,
      "metadata": {
        "colab": {
          "base_uri": "https://localhost:8080/"
        },
        "id": "vCQNgA6ZjgZ2",
        "outputId": "30701202-8b72-4ba4-e5e0-d3d0126d0a38"
      },
      "outputs": [
        {
          "output_type": "stream",
          "name": "stdout",
          "text": [
            "[[0 1 2 3]\n",
            " [4 5 6 7]]\n",
            "[[0 4]\n",
            " [1 5]\n",
            " [2 6]\n",
            " [3 7]]\n",
            "[[0 4]\n",
            " [1 5]\n",
            " [2 6]\n",
            " [3 7]]\n"
          ]
        }
      ],
      "source": [
        "# sometimes needed to change rows into columns\n",
        "a = np.array (range(8)).reshape(2,4)\n",
        "b = a.transpose()\n",
        "print(a)\n",
        "print(b)\n",
        "\n",
        "# can be done also with .T\n",
        "c = a.T\n",
        "print(c)\n"
      ]
    },
    {
      "cell_type": "markdown",
      "metadata": {
        "id": "JRjdbiCqjgZo"
      },
      "source": [
        "# 5.&nbsp;Vector vs matrix with one row or one column"
      ]
    },
    {
      "cell_type": "code",
      "execution_count": null,
      "metadata": {
        "colab": {
          "base_uri": "https://localhost:8080/"
        },
        "id": "r9s1cyk7jgZp",
        "outputId": "9e955622-4eb9-4295-ebe0-adae34184c71"
      },
      "outputs": [
        {
          "output_type": "stream",
          "name": "stdout",
          "text": [
            "[5. 6. 7.]\n",
            "<class 'numpy.ndarray'>\n",
            "(3,)\n"
          ]
        }
      ],
      "source": [
        "v1 = np.array ([5,6,7], float)  # a real-valued vector of size 3\n",
        "                                # equivalent to a list, but all elements must have the same type\n",
        "print(v1)\n",
        "print (type(v1))\n",
        "print (v1.shape) # a tuple of length one for the shape of one-dimensional ndarrays"
      ]
    },
    {
      "cell_type": "code",
      "execution_count": null,
      "metadata": {
        "colab": {
          "base_uri": "https://localhost:8080/"
        },
        "id": "D4nm_XoljgZq",
        "outputId": "dbd65faa-24e8-4d2f-dce8-fb7f5a9b4eaa"
      },
      "outputs": [
        {
          "output_type": "stream",
          "name": "stdout",
          "text": [
            "[0. 0. 0. 0.]\n",
            "(4,)\n"
          ]
        }
      ],
      "source": [
        "v2 = np.zeros( (4,) )\n",
        "print(v2)\n",
        "print(v2.shape)"
      ]
    },
    {
      "cell_type": "code",
      "execution_count": null,
      "metadata": {
        "colab": {
          "base_uri": "https://localhost:8080/"
        },
        "id": "ieM6xwFrjgZs",
        "outputId": "0b9724c3-839f-4fb9-c853-f13ada08e581"
      },
      "outputs": [
        {
          "output_type": "stream",
          "name": "stdout",
          "text": [
            "[1. 1. 1.]\n",
            "[[1.]\n",
            " [1.]\n",
            " [1.]]\n",
            "[[1. 1. 1.]]\n"
          ]
        }
      ],
      "source": [
        "# caution: vector of shape (n,) versus matrix with shape (n,1) or (1,n)\n",
        "vect = np.ones((3,))\n",
        "mat1 = np.ones((3,1))\n",
        "mat2 = np.ones((1,3))\n",
        "\n",
        "print(vect)\n",
        "print(mat1)\n",
        "print(mat2)"
      ]
    },
    {
      "cell_type": "markdown",
      "metadata": {
        "id": "TCPiWY8FjgZ6"
      },
      "source": [
        "# 6.&nbsp;Sorting with np.sort et np.argsort"
      ]
    },
    {
      "cell_type": "code",
      "execution_count": null,
      "metadata": {
        "colab": {
          "base_uri": "https://localhost:8080/"
        },
        "id": "akIuBQYzjgZ6",
        "outputId": "b8d4d244-2b96-442b-f161-53b8b4215ac6"
      },
      "outputs": [
        {
          "output_type": "stream",
          "name": "stdout",
          "text": [
            "[[ 3 24 17]\n",
            " [ 8  2 16]]\n",
            "[[ 3 17 24]\n",
            " [ 2  8 16]]\n",
            "[[ 3  2 16]\n",
            " [ 8 24 17]]\n"
          ]
        }
      ],
      "source": [
        "a = np.array( [ 3 , 24, 17, 8, 2 ,16]).reshape(2,3)\n",
        "\n",
        "# sorting along axis 1: elements move along this axis (column axis here)\n",
        "#          => for matrices, it corresponds to sorting each row\n",
        "b = np.sort(a, axis=1)\n",
        "# sorting along axis 0: elements move along this axis (row axis here)\n",
        "#          => for matrices, it corresponds to sorting each column\n",
        "c = np.sort(a, axis=0)\n",
        "print(a)\n",
        "print(b)\n",
        "print(c)"
      ]
    },
    {
      "cell_type": "code",
      "execution_count": null,
      "metadata": {
        "colab": {
          "base_uri": "https://localhost:8080/"
        },
        "id": "j0TxBjZ7jgZ7",
        "outputId": "0a2cb47a-d499-4a18-bb30-48e630c90f57"
      },
      "outputs": [
        {
          "output_type": "stream",
          "name": "stdout",
          "text": [
            "[[ 3 24 17]\n",
            " [ 8  2 16]]\n",
            "b [[0 2 1]\n",
            " [1 0 2]]\n",
            "sorted first row: [3, 17, 24]\n"
          ]
        }
      ],
      "source": [
        "# we may need to sort the ids according to the values\n",
        "# => argsort provides the ids sorted according to the values\n",
        "b = np.argsort(a, axis=1)\n",
        "print(a)\n",
        "print(\"b\", b)\n",
        "# for instance, the sorted ids in first row of b[0,:]\n",
        "# give access to the sorted values of the first row of a\n",
        "print(\"sorted first row:\", [ a[0,i] for i in b[0,:]])\n",
        "\n",
        "c = np.argsort(a, axis=0)\n",
        "# QUESTION: what will be the value of c?"
      ]
    },
    {
      "cell_type": "code",
      "source": [
        "# to get descending order, we can just sort the opposite tensor (-a)\n",
        "d = np.argsort(-a, axis=1)\n",
        "print(d)"
      ],
      "metadata": {
        "colab": {
          "base_uri": "https://localhost:8080/"
        },
        "id": "WKAWEIVqAUme",
        "outputId": "ef333911-cfce-4ce6-8adc-0ebda44477d2"
      },
      "execution_count": null,
      "outputs": [
        {
          "output_type": "stream",
          "name": "stdout",
          "text": [
            "[[1 2 0]\n",
            " [2 0 1]]\n"
          ]
        }
      ]
    },
    {
      "cell_type": "markdown",
      "metadata": {
        "id": "W6dpcBu_jgZ7"
      },
      "source": [
        "# 7.&nbsp;Applying a function to each element of a tensor"
      ]
    },
    {
      "cell_type": "markdown",
      "metadata": {
        "id": "PXLMyGbsjgZ8"
      },
      "source": [
        "### Operations between a tensor and a scalar"
      ]
    },
    {
      "cell_type": "code",
      "execution_count": null,
      "metadata": {
        "colab": {
          "base_uri": "https://localhost:8080/"
        },
        "id": "otSeuo0tjgZ8",
        "outputId": "fc44d614-6065-4cc8-8d8e-5b4624aa69b1"
      },
      "outputs": [
        {
          "output_type": "stream",
          "name": "stdout",
          "text": [
            "[[0 1 2]\n",
            " [3 4 5]]\n",
            "[[10 11 12]\n",
            " [13 14 15]]\n",
            "[[ 0 10 20]\n",
            " [30 40 50]]\n",
            "[[0.  0.1 0.2]\n",
            " [0.3 0.4 0.5]]\n",
            "[[ 0  1  4]\n",
            " [ 9 16 25]]\n"
          ]
        }
      ],
      "source": [
        "# multiplication by a scalar, addition of a scalar etc...\n",
        "a = np.array(range(6)).reshape(2,3)\n",
        "\n",
        "print(a)\n",
        "\n",
        "print(a + 10)\n",
        "print(a * 10)\n",
        "print(a / 10.0)\n",
        "print(a**2)"
      ]
    },
    {
      "cell_type": "markdown",
      "metadata": {
        "id": "xg9Q24ecjgZ9"
      },
      "source": [
        "### Applying a mathematical function to each element\n",
        "\n",
        "See list of numpy mathematical functions\n",
        "https://numpy.org/doc/stable/reference/routines.math.html"
      ]
    },
    {
      "cell_type": "code",
      "execution_count": null,
      "metadata": {
        "colab": {
          "base_uri": "https://localhost:8080/"
        },
        "id": "2dd-NcLCjgZ9",
        "outputId": "2444b008-bdc0-4cb8-9d65-46feb52c9845"
      },
      "outputs": [
        {
          "output_type": "stream",
          "name": "stdout",
          "text": [
            "[[1 2 3 4]\n",
            " [5 6 7 8]]\n",
            "[[0.         1.         1.5849625  2.        ]\n",
            " [2.32192809 2.5849625  2.80735492 3.        ]]\n"
          ]
        }
      ],
      "source": [
        "a = np.array(range(8)).reshape(2,4) + 1\n",
        "print(a)\n",
        "print(np.log2(a)) # log base 2 applied to each cell"
      ]
    },
    {
      "cell_type": "code",
      "source": [
        "m = np.random.rand(2,2)\n",
        "print(m)\n"
      ],
      "metadata": {
        "colab": {
          "base_uri": "https://localhost:8080/"
        },
        "id": "7cJB3KKrpfoT",
        "outputId": "e6444314-a45f-4c11-a011-ed11cfb212ca"
      },
      "execution_count": null,
      "outputs": [
        {
          "output_type": "stream",
          "name": "stdout",
          "text": [
            "[[0.35451483 0.56967164]\n",
            " [0.71009937 0.89166171]]\n"
          ]
        }
      ]
    },
    {
      "cell_type": "markdown",
      "source": [
        "### TODO: comment what is done with:\n"
      ],
      "metadata": {
        "id": "Hffy0cMkINdi"
      }
    },
    {
      "cell_type": "code",
      "source": [
        "#print(np.round(m, 2))"
      ],
      "metadata": {
        "id": "N6ebcx1aILt9"
      },
      "execution_count": null,
      "outputs": []
    },
    {
      "cell_type": "markdown",
      "metadata": {
        "id": "4wSIRrrkjgZ-"
      },
      "source": [
        "### Applying a user-defined method to each element"
      ]
    },
    {
      "cell_type": "code",
      "execution_count": null,
      "metadata": {
        "colab": {
          "base_uri": "https://localhost:8080/"
        },
        "id": "UmdMwzYAjgZ_",
        "outputId": "a9ab17e3-f07d-414a-a998-64d2c15c5895"
      },
      "outputs": [
        {
          "output_type": "stream",
          "name": "stdout",
          "text": [
            "[[0 1 2]\n",
            " [3 4 5]]\n",
            "[[ 0  2  7]\n",
            " [10 13 16]]\n"
          ]
        }
      ],
      "source": [
        "# np.vectorize defines a \"vectorized\" version of any function my_f\n",
        "# namely a version that will apply my_f to each cell\n",
        "\n",
        "def my_f(x):\n",
        "    if (x<2):\n",
        "        return 2 * x\n",
        "    else:\n",
        "        return 3 * x+1\n",
        "my_f_vec = np.vectorize(my_f)\n",
        "\n",
        "a = np.array(range(6)).reshape(2,3)\n",
        "print(a)\n",
        "print(my_f_vec(a))\n",
        "\n",
        "# QUESTION: what will contain a * f_vec(a) ?"
      ]
    },
    {
      "cell_type": "markdown",
      "metadata": {
        "id": "clLy0IXDjgZ_"
      },
      "source": [
        "### Applying a function along one or several axes : e.g. get the sum for each row of a matrix\n",
        "\n",
        "`np.sum`is quite useful.\n",
        "\n",
        "The `axis` argument serves to define which elements to sum.\n"
      ]
    },
    {
      "cell_type": "code",
      "execution_count": null,
      "metadata": {
        "colab": {
          "base_uri": "https://localhost:8080/"
        },
        "id": "BCHcc_XOjgZ_",
        "outputId": "00bf0e7e-eabf-42bc-efdd-3b9570679eae"
      },
      "outputs": [
        {
          "output_type": "stream",
          "name": "stdout",
          "text": [
            "[[0 1 2]\n",
            " [3 4 5]]\n",
            "15\n",
            "[3 5 7]\n",
            "[ 3 12]\n",
            "[ 3 12]\n"
          ]
        }
      ],
      "source": [
        "a = np.array(range(6)).reshape(2,3)\n",
        "print(a)\n",
        "\n",
        "print(np.sum(a))          # by default: sum of all cells (axis=None)\n",
        "\n",
        "# the axis argument serves to define which elements to sum\n",
        "# more precisely which axis or tuple of axes varies to sum elements\n",
        "# it is easier to think of which axis *does not vary*\n",
        "print(np.sum(a, axis=0))  # sum with varying rows => keep separated sums for each column\n",
        "print(np.sum(a, axis=1))  # sum with varying columns => sum of each row\n",
        "print(np.sum(a, axis=-1)) # axis=-1 means the last axis, here =1\n",
        "\n"
      ]
    },
    {
      "cell_type": "code",
      "source": [
        "a = np.array(range(12)).reshape(2,3,2)\n",
        "\n",
        "print(a)\n",
        "print(np.sum(a,axis=1))\n",
        "print(np.sum(a,axis=0))\n",
        "\n",
        "# axis can also be a tuple of axes\n",
        "# e.g. sum with varying axes 1 and 2\n",
        "#      only axis 0 does not vary : keep separate sums for each of the 2 2x3 matrices\n",
        "print(np.sum(a, axis=(1,2)))"
      ],
      "metadata": {
        "colab": {
          "base_uri": "https://localhost:8080/"
        },
        "id": "3WY_oLBdoT1N",
        "outputId": "c55de630-b764-49e9-df3c-7a1e9edbccf4"
      },
      "execution_count": null,
      "outputs": [
        {
          "output_type": "stream",
          "name": "stdout",
          "text": [
            "[[[ 0  1]\n",
            "  [ 2  3]\n",
            "  [ 4  5]]\n",
            "\n",
            " [[ 6  7]\n",
            "  [ 8  9]\n",
            "  [10 11]]]\n",
            "[[ 6  9]\n",
            " [24 27]]\n",
            "[[ 6  8]\n",
            " [10 12]\n",
            " [14 16]]\n",
            "[15 51]\n"
          ]
        }
      ]
    },
    {
      "cell_type": "markdown",
      "source": [
        "### TODO: use np.prod to obtain for each column, the product of the elements in the column\n"
      ],
      "metadata": {
        "id": "arGAisobIXNs"
      }
    },
    {
      "cell_type": "code",
      "source": [
        "a = np.array(range(6)).reshape(2,3)"
      ],
      "metadata": {
        "id": "wtodQElEoB93"
      },
      "execution_count": null,
      "outputs": []
    },
    {
      "cell_type": "markdown",
      "metadata": {
        "id": "X7fr228WjgaC"
      },
      "source": [
        "# 8.&nbsp;Element-wise arithmetic operations"
      ]
    },
    {
      "cell_type": "markdown",
      "source": [
        "## between two tensors of SAME SHAPE"
      ],
      "metadata": {
        "id": "6QQNIvdbKrtn"
      }
    },
    {
      "cell_type": "code",
      "execution_count": null,
      "metadata": {
        "colab": {
          "base_uri": "https://localhost:8080/"
        },
        "id": "a2erIV5mjgaC",
        "outputId": "5d195a8c-d019-43c9-cdfc-cebe21653cc8"
      },
      "outputs": [
        {
          "output_type": "stream",
          "name": "stdout",
          "text": [
            "[[ 0  1  2  3]\n",
            " [ 4  5  6  7]\n",
            " [ 8  9 10 11]]\n",
            "[[ 2  3  4  5]\n",
            " [ 6  7  8  9]\n",
            " [10 11 12 13]]\n",
            "[[  0   3   8  15]\n",
            " [ 24  35  48  63]\n",
            " [ 80  99 120 143]]\n",
            "[[0.         0.33333333 0.5        0.6       ]\n",
            " [0.66666667 0.71428571 0.75       0.77777778]\n",
            " [0.8        0.81818182 0.83333333 0.84615385]]\n"
          ]
        }
      ],
      "source": [
        "# for two tensors of same shape, using arithmetic operators will apply\n",
        "#the operators to each pair of elements at same coordinates in the tensors\n",
        "\n",
        "a = np.array(range(12)).reshape((3,4))\n",
        "print(a)\n",
        "\n",
        "b = np.array(range(12)).reshape((3,4)) + 2\n",
        "print(b)\n",
        "\n",
        "print(a * b) # => NB: corresponds to the Hadamard product\n",
        "\n",
        "print (a / b)\n",
        "\n"
      ]
    },
    {
      "cell_type": "code",
      "execution_count": null,
      "metadata": {
        "colab": {
          "base_uri": "https://localhost:8080/"
        },
        "id": "0ZMdOj_TjgaD",
        "outputId": "332e752a-896c-4fc8-9327-64f7a91155f3"
      },
      "outputs": [
        {
          "output_type": "stream",
          "name": "stdout",
          "text": [
            "[[ 0  1  2  3]\n",
            " [ 4  5  6  7]\n",
            " [ 8  9 10 11]]\n",
            "[[  0   1   4   9]\n",
            " [ 16  25  36  49]\n",
            " [ 64  81 100 121]]\n",
            "[[  0   1   4   9]\n",
            " [ 16  25  36  49]\n",
            " [ 64  81 100 121]]\n"
          ]
        }
      ],
      "source": [
        "a = np.array(range(12)).reshape(3,4)\n",
        "print(a)\n",
        "print(a*a)\n",
        "print(a**2)\n"
      ]
    },
    {
      "cell_type": "markdown",
      "source": [
        "## between tensors of different shapes : \"Broadcasting\"\n",
        "\n",
        "\"The term broadcasting describes how NumPy treats arrays with different shapes during arithmetic operations\"\n",
        "\n",
        "cf. https://numpy.org/doc/stable/user/basics.broadcasting.html\n",
        "\n",
        "**Same broadcasting rules in pytorch!**\n",
        "\n",
        "When performing e.g. an arithmetic operation between a vector and a tensor, everything happens as if the vector were repeated along the missing axes."
      ],
      "metadata": {
        "id": "uWEqib_aHOOL"
      }
    },
    {
      "cell_type": "code",
      "execution_count": null,
      "metadata": {
        "colab": {
          "base_uri": "https://localhost:8080/"
        },
        "id": "qGX2CQtLjgaA",
        "outputId": "cd83c35f-b2cc-4c40-9105-aeeb2a0659ed"
      },
      "outputs": [
        {
          "output_type": "stream",
          "name": "stdout",
          "text": [
            "[[ 0  1  2  3]\n",
            " [ 4  5  6  7]\n",
            " [ 8  9 10 11]]\n",
            "[[  0  -1  -2  -3]\n",
            " [ -4  -5  -6  -7]\n",
            " [ -8  -9 -10 -11]]\n",
            "vector v: [2 3 4 5] , with shape (4,)\n",
            "m + v: \n",
            " [[ 2  4  6  8]\n",
            " [ 6  8 10 12]\n",
            " [10 12 14 16]]\n",
            "Operation between matrix m with shape (r,c) and vector v with shape (c,) :\n",
            "Everything happens as if the vector were repeated on r rows\n"
          ]
        }
      ],
      "source": [
        "# matrix of shape (r,c)\n",
        "# vector of shape (c,)\n",
        "m = np.array(range(12)).reshape((3,4))\n",
        "print(m)\n",
        "print(-m)\n",
        "\n",
        "v = np.array(range(4)) + 2\n",
        "print( \"vector v:\", v, \", with shape\", v.shape )\n",
        "\n",
        "\n",
        "# broadcasting rules (r,c )\n",
        "#                      (c,)\n",
        "\n",
        "# equivalent to (r,c)\n",
        "#               (1,c)   (missing axis assumed to be equal to 1)\n",
        "\n",
        "# broadcasting : everything happens as if the the axis of size 1 will be \"copied\" r times\n",
        "print( \"m + v: \\n\", m + v )\n",
        "\n",
        "print(\"Operation between matrix m with shape (r,c) and vector v with shape (c,) :\")\n",
        "print(\"Everything happens as if the vector were repeated on r rows\")\n",
        "\n"
      ]
    },
    {
      "cell_type": "code",
      "execution_count": null,
      "metadata": {
        "colab": {
          "base_uri": "https://localhost:8080/"
        },
        "id": "RZ1fFZiljgaB",
        "outputId": "dbd7a019-f662-441e-9acd-9c3537c38196"
      },
      "outputs": [
        {
          "output_type": "stream",
          "name": "stdout",
          "text": [
            "[[ 0  1  2  3]\n",
            " [ 4  5  6  7]\n",
            " [ 8  9 10 11]]\n",
            "v:  [0 1 2]\n",
            "v.shape (3,)\n",
            "shape when using asmatrix method: (1, 3)\n",
            "v as a column vector (a matrix with 3 rows and one column):\n",
            " [[0]\n",
            " [1]\n",
            " [2]]\n",
            "Operation between a matrix (3,4) and a column matrix c (3,1) :\n",
            "To performe shape (3,4) * shape (3,1), the axis with size 1 is sort-of copied\n",
            "=> everything happens as if the column in v were repeated as 4 identical columns\n",
            "M * c =\n",
            "[[ 0  0  0  0]\n",
            " [ 4  5  6  7]\n",
            " [16 18 20 22]]\n",
            "M + c =\n",
            "[[ 0  1  2  3]\n",
            " [ 5  6  7  8]\n",
            " [10 11 12 13]]\n"
          ]
        }
      ],
      "source": [
        "# to do an operation between a matrix and a vector used as a column\n",
        "# you need to convert the vector as a real matrix with a single column\n",
        "M = np.array(range(12)).reshape((3,4))\n",
        "print(M)\n",
        "v = np.array(range(3)).reshape((3,))\n",
        "print(\"v: \", v)\n",
        "print(\"v.shape\", v.shape)\n",
        "\n",
        "# this does not give us a column matrix\n",
        "print(\"shape when using asmatrix method:\", np.asmatrix(v).shape)\n",
        "\n",
        "# this gives an error, why?\n",
        "#print(M * v)\n",
        "\n",
        "# use reshape to see v as a column vector\n",
        "c = v.reshape(3,1)\n",
        "print(\"v as a column vector (a matrix with 3 rows and one column):\\n\", c)\n",
        "print(\"Operation between a matrix (3,4) and a column matrix c (3,1) :\")\n",
        "print(\"To performe shape (3,4) * shape (3,1), the axis with size 1 is sort-of copied\")\n",
        "print(\"=> everything happens as if the column in v were repeated as 4 identical columns\")\n",
        "print(\"M * c =\")\n",
        "print(M * c)\n",
        "\n",
        "print(\"M + c =\")\n",
        "print(M + c)"
      ]
    },
    {
      "cell_type": "markdown",
      "source": [
        "Other operations like - / * work in the same way\n",
        "\n",
        "### TODO: use paper and pencil to redo the following operation\n"
      ],
      "metadata": {
        "id": "kzfaJw1aMDWf"
      }
    },
    {
      "cell_type": "code",
      "source": [
        "m = np.array(range(12)).reshape((3,4))\n",
        "print(m)\n",
        "v = np.array(range(4)) + 2\n",
        "print(v)\n",
        "print( \"- m * v: \\n\",  -m * v )\n",
        "\n",
        "print( \"(-2 * m) / v: \\n\", (-2 * m) / v )\n"
      ],
      "metadata": {
        "colab": {
          "base_uri": "https://localhost:8080/"
        },
        "id": "WYx4mDjqMBZ3",
        "outputId": "da39aebc-c5e1-4421-a635-4052958bc7bd"
      },
      "execution_count": null,
      "outputs": [
        {
          "output_type": "stream",
          "name": "stdout",
          "text": [
            "[[ 0  1  2  3]\n",
            " [ 4  5  6  7]\n",
            " [ 8  9 10 11]]\n",
            "[2 3 4 5]\n",
            "- m * v: \n",
            " [[  0  -3  -8 -15]\n",
            " [ -8 -15 -24 -35]\n",
            " [-16 -27 -40 -55]]\n",
            "(-2 * m) / v: \n",
            " [[ 0.         -0.66666667 -1.         -1.2       ]\n",
            " [-4.         -3.33333333 -3.         -2.8       ]\n",
            " [-8.         -6.         -5.         -4.4       ]]\n"
          ]
        }
      ]
    },
    {
      "cell_type": "markdown",
      "source": [
        "# 9.&nbsp;dot product (for vectors) and matrix product"
      ],
      "metadata": {
        "id": "eFEU_9qK0l9j"
      }
    },
    {
      "cell_type": "markdown",
      "source": [
        "### dot product of two vectors : np.dot\n",
        "\n",
        "NB: np.dot has different behavior depending on the input shapes\n",
        "see https://numpy.org/doc/stable/reference/generated/numpy.dot.html"
      ],
      "metadata": {
        "id": "uj24itck0-Xg"
      }
    },
    {
      "cell_type": "code",
      "source": [
        "v1 = np.array([1, -2, 2])\n",
        "v2 = np.array([-3, 6, 2])\n",
        "\n",
        "np.dot(v1, v2)"
      ],
      "metadata": {
        "colab": {
          "base_uri": "https://localhost:8080/"
        },
        "id": "WNZYpMiV1lEH",
        "outputId": "1a30d017-0f6e-4b6a-ac87-1a810dafcadf"
      },
      "execution_count": null,
      "outputs": [
        {
          "output_type": "execute_result",
          "data": {
            "text/plain": [
              "-11"
            ]
          },
          "metadata": {},
          "execution_count": 76
        }
      ]
    },
    {
      "cell_type": "markdown",
      "metadata": {
        "id": "-6EbduEDjgaD"
      },
      "source": [
        "### Matrix product : np.matmul and the @ operator"
      ]
    },
    {
      "cell_type": "markdown",
      "metadata": {
        "id": "q26AsbtxjgaD"
      },
      "source": [
        "**Essential**:\n",
        "\n",
        "C = AB\n",
        "\n",
        "**C\\[i,j\\] equals the dot product between i-th row of A and j-th column of B**\n",
        "\n",
        "Hence AB is only defined when number of columns of A = number of lines of B\n",
        "\n",
        "In numpy, use np.matmul or the infix @ operator\n",
        "\n",
        "Rem: np.dot also works on matrices but not recommended"
      ]
    },
    {
      "cell_type": "code",
      "execution_count": null,
      "metadata": {
        "colab": {
          "base_uri": "https://localhost:8080/"
        },
        "id": "RKP-trqsjgaE",
        "outputId": "f0780ee3-6055-437e-9159-387bebf96ef6"
      },
      "outputs": [
        {
          "output_type": "stream",
          "name": "stdout",
          "text": [
            "[[0 1 2]\n",
            " [3 4 5]]\n",
            "[[ 0  1  2  3]\n",
            " [ 4  5  6  7]\n",
            " [ 8  9 10 11]]\n",
            "[[20 23 26 29]\n",
            " [56 68 80 92]]\n",
            "[[20 23 26 29]\n",
            " [56 68 80 92]]\n"
          ]
        }
      ],
      "source": [
        "a = np.array(range(6)).reshape(2,3)\n",
        "b = np.array(range(12)).reshape(3,4)\n",
        "\n",
        "print(a)\n",
        "print(b)\n",
        "\n",
        "print(a @ b)\n",
        "\n",
        "print(np.matmul(a,b))\n",
        "\n",
        "# rem:\n",
        "# A @ B @ C\n",
        "# is equivalent to\n",
        "# np.matmul(np.matmul(A,B), C)\n"
      ]
    },
    {
      "cell_type": "markdown",
      "source": [
        "### TODO: comment the operations below"
      ],
      "metadata": {
        "id": "n_dIro3SIlnD"
      }
    },
    {
      "cell_type": "code",
      "execution_count": null,
      "metadata": {
        "colab": {
          "base_uri": "https://localhost:8080/"
        },
        "id": "0aC9FeNmjgaF",
        "outputId": "43556eab-9e67-44c5-9b1c-11ef9bdfcfca"
      },
      "outputs": [
        {
          "output_type": "stream",
          "name": "stdout",
          "text": [
            "[[0 1 2]\n",
            " [3 4 5]]\n",
            "[[ 0  1  2]\n",
            " [ 3  4  5]\n",
            " [ 6  7  8]\n",
            " [ 9 10 11]]\n",
            "[[  5  14  23  32]\n",
            " [ 14  50  86 122]]\n"
          ]
        }
      ],
      "source": [
        "\n",
        "a = np.array(range(6)).reshape(2,3)\n",
        "b = np.array(range(12)).reshape(4,3)\n",
        "c = np.matmul(a, b.transpose())\n",
        "print(a)\n",
        "print(b)\n",
        "print(c)"
      ]
    },
    {
      "cell_type": "markdown",
      "metadata": {
        "id": "XAO27dP9jgaF"
      },
      "source": [
        "## Product of vector and matrix"
      ]
    },
    {
      "cell_type": "code",
      "execution_count": null,
      "metadata": {
        "colab": {
          "base_uri": "https://localhost:8080/"
        },
        "id": "uOWIo9ZGjgaG",
        "outputId": "81e66c6b-5ab4-4ece-94d0-7ef73a9c0241"
      },
      "outputs": [
        {
          "output_type": "stream",
          "name": "stdout",
          "text": [
            "[[0 1]\n",
            " [2 3]\n",
            " [4 5]]\n",
            "[10 11 12]\n",
            "np.matmul(v,M): [ 70 103]\n",
            "shape: (2,)\n"
          ]
        }
      ],
      "source": [
        "# The np.matmul method does implicit reshaping\n",
        "# when one of the arguments is uni-dimensional\n",
        "\n",
        "# if x is a vector of size n (array of shape (n,))\n",
        "# then when x is first argument of np.matmul\n",
        "# => reshape as a line vector (1,n)\n",
        "M = np.arange(6).reshape(3,2)\n",
        "v = np.arange(3) + 10\n",
        "print(M)\n",
        "print(v)\n",
        "d = np.matmul(v,M)\n",
        "print(\"np.matmul(v,M):\", d)\n",
        "print(\"shape:\", d.shape)\n"
      ]
    },
    {
      "cell_type": "markdown",
      "source": [
        "### TODO: check that this line produces an error, explain why"
      ],
      "metadata": {
        "id": "lOA5S-E8Hy1i"
      }
    },
    {
      "cell_type": "code",
      "source": [
        "#print(np.matmul(M,v))"
      ],
      "metadata": {
        "id": "TufaY-ItH8_e"
      },
      "execution_count": null,
      "outputs": []
    },
    {
      "cell_type": "code",
      "execution_count": null,
      "metadata": {
        "colab": {
          "base_uri": "https://localhost:8080/"
        },
        "id": "MYXj_DqOjgaG",
        "outputId": "ff8f6f1c-bb43-4ac3-b255-dddd32b3d90c"
      },
      "outputs": [
        {
          "output_type": "stream",
          "name": "stdout",
          "text": [
            "[[0 2 4]\n",
            " [1 3 5]]\n",
            "[10 11 12]\n",
            "[ 70 103]\n",
            "[ 70 103]\n"
          ]
        }
      ],
      "source": [
        "print(M.T)\n",
        "print(v)\n",
        "print (np.matmul(M.T,v))\n",
        "# same as:\n",
        "print (M.T @ v)"
      ]
    },
    {
      "cell_type": "code",
      "execution_count": null,
      "metadata": {
        "colab": {
          "base_uri": "https://localhost:8080/"
        },
        "id": "9HSRnFxgjgaH",
        "outputId": "1b871eeb-9dc4-4a3c-ae3f-0f529aa3aef0"
      },
      "outputs": [
        {
          "output_type": "stream",
          "name": "stdout",
          "text": [
            "[[0 1 2]\n",
            " [3 4 5]]\n",
            "[10 11 12]\n",
            "M @ v result using explicit reshaping of v as column vector :\n",
            "[[ 35]\n",
            " [134]]\n",
            "(2, 1)\n",
            "M @ v result with IMPLICIT reshaping:\n",
            "[ 35 134]\n",
            "is equivalent to v @ M.T\n",
            "[ 35 134]\n"
          ]
        }
      ],
      "source": [
        "# when x is 2nd argument of @\n",
        "M = np.arange(6).reshape(2,3)\n",
        "v = np.arange(3) + 10\n",
        "print(M)\n",
        "print(v)\n",
        "\n",
        "print(\"M @ v result using explicit reshaping of v as column vector :\")\n",
        "r = M @ v.reshape(3,1)\n",
        "print(r)\n",
        "print(r.shape)\n",
        "\n",
        "print(\"M @ v result with IMPLICIT reshaping:\")\n",
        "print(M @ v)\n",
        "print(\"is equivalent to v @ M.T\")\n",
        "print(v @ M.T)\n",
        "\n"
      ]
    },
    {
      "cell_type": "markdown",
      "source": [
        "# 10.&nbsp;Numpy exercise : batch computation of distances and similarities\n",
        "\n",
        "We take again matrices $A = \\begin{pmatrix}\n",
        " 1 & -2 & 2\\\\\n",
        " -3 & 4 & 0\\\\\n",
        " 4 & 2 & 4\\\\\n",
        " -2 & -2 & 1\n",
        " \\end{pmatrix}$ and $B = \\begin{pmatrix}\n",
        " -3 & 6 & 2\\\\\n",
        "  0 & 3 & -4\\\\\n",
        " \\end{pmatrix}$.\n",
        "\n"
      ],
      "metadata": {
        "id": "pyYZyKpxEf2R"
      }
    },
    {
      "cell_type": "markdown",
      "source": [
        "## TODO1: cosines\n",
        "Use numpy methods to compute the cosine similarity for each row vector in A with each row vector in B, **without using any loop over rows nor columns**, which will be much more efficient.\n",
        "\n",
        "**Indications**: remember that cos(u, v) = u'.v', with u' being the normalized version of u (namely u divided by its norm). So\n",
        "- define A and B as above\n",
        "- start by computing the norms of each row vector in A and B (square and sum!)\n",
        "- divide each row vector in A and B by its norm\n",
        "- and then use matrix multiplication to compute the required dot products\n",
        "\n"
      ],
      "metadata": {
        "id": "KQn63aQNjeZ3"
      }
    },
    {
      "cell_type": "code",
      "source": [],
      "metadata": {
        "id": "ne4HABIjlnzw"
      },
      "execution_count": null,
      "outputs": []
    },
    {
      "cell_type": "markdown",
      "source": [
        "## Utility for K-NN\n",
        "This efficient computation will be useful to implement the K-NN algorithm *in a very efficient way*:\n",
        "- if A is for 4 vectors for which we know the class.\n",
        "- and B is for 2 vectors to classify using K-NN\n",
        "Then for each vector in B, we will need to compute the distance (or cosine similarity) with each vector in A.\n",
        "\n"
      ],
      "metadata": {
        "id": "Hsd1nH1MjgLq"
      }
    },
    {
      "cell_type": "markdown",
      "source": [
        "## TODO2: distances\n",
        " Use the following reformulation of distances:\n",
        "\n",
        "$ dist(a,b) = \\lVert a - b \\rVert = \\sqrt{\\sum_{i=1}^d (a_i - b_i)^2}$\n",
        "$= \\sqrt{\\sum_{i=1}^d (a_i^2 + b_i^2 - 2 a_i b_i)}$\n",
        "$= \\sqrt{\\lVert a \\rVert^2 + \\lVert b \\rVert^2 - 2 a \\cdot b}$\n",
        "\n",
        "But since we work using\n",
        "- a bunch of $a$ vectors (rows of matrix A),\n",
        "- and a bunch of $b$ vectors (rows of matrix B),\n",
        "- => let's note $A_a$ the a-th row of a, and $B_b$ the b-th row of B:\n",
        "\n",
        "$ dist(A_a,A_b) =\\sqrt{\\lVert A_a \\rVert^2 + \\lVert B_b \\rVert^2 - 2 A_a \\cdot A_b}$\n"
      ],
      "metadata": {
        "id": "YgmCUu1qjkSw"
      }
    },
    {
      "cell_type": "code",
      "source": [],
      "metadata": {
        "id": "KxWDZ7EwlpEf"
      },
      "execution_count": null,
      "outputs": []
    }
  ],
  "metadata": {
    "kernelspec": {
      "display_name": "Python 3 (ipykernel)",
      "language": "python",
      "name": "python3"
    },
    "language_info": {
      "codemirror_mode": {
        "name": "ipython",
        "version": 3
      },
      "file_extension": ".py",
      "mimetype": "text/x-python",
      "name": "python",
      "nbconvert_exporter": "python",
      "pygments_lexer": "ipython3",
      "version": "3.7.9"
    },
    "colab": {
      "provenance": [],
      "include_colab_link": true
    }
  },
  "nbformat": 4,
  "nbformat_minor": 0
}